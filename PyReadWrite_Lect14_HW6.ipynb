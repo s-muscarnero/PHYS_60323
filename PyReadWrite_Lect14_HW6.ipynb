{
 "cells": [
  {
   "cell_type": "markdown",
   "metadata": {},
   "source": [
    "# Lecture 14 - Reading and Writing files"
   ]
  },
  {
   "cell_type": "markdown",
   "metadata": {
    "slideshow": {
     "slide_type": "slide"
    }
   },
   "source": [
    "We have already talked about built-in Python types, but there are more types that we did not speak about. One of these is the ``file()`` object which can be used to read or write files."
   ]
  },
  {
   "cell_type": "markdown",
   "metadata": {},
   "source": [
    "## Reading files"
   ]
  },
  {
   "cell_type": "markdown",
   "metadata": {
    "slideshow": {
     "slide_type": "slide"
    }
   },
   "source": [
    "Let's try and get the contents of the file into IPython. We start off by creating a file object:"
   ]
  },
  {
   "cell_type": "code",
   "execution_count": 1,
   "metadata": {},
   "outputs": [],
   "source": [
    "f = open('data1.txt', 'r')"
   ]
  },
  {
   "cell_type": "markdown",
   "metadata": {},
   "source": [
    "The ``open`` function is taking the [data1.txt](data1.txt) file, opening it, and returning an object (which we call ``f``) that can then be used to access the data."
   ]
  },
  {
   "cell_type": "markdown",
   "metadata": {
    "slideshow": {
     "slide_type": "slide"
    }
   },
   "source": [
    "Note that ``f`` is not the data in the file, it is what is called a *file handle*, which points to the file:"
   ]
  },
  {
   "cell_type": "code",
   "execution_count": 2,
   "metadata": {},
   "outputs": [
    {
     "data": {
      "text/plain": [
       "_io.TextIOWrapper"
      ]
     },
     "execution_count": 2,
     "metadata": {},
     "output_type": "execute_result"
    }
   ],
   "source": [
    "type(f)"
   ]
  },
  {
   "cell_type": "markdown",
   "metadata": {
    "slideshow": {
     "slide_type": "slide"
    }
   },
   "source": [
    "Now, simply type:"
   ]
  },
  {
   "cell_type": "code",
   "execution_count": 3,
   "metadata": {},
   "outputs": [
    {
     "data": {
      "text/plain": [
       "'Latitude   Logitude   Identifier        Alt    e_Alt\\n(deg)      (deg)                        (km)   (km) \\n---------- ---------- ----------------- ------ ------\\n010.684737 +41.269035 00424433+4116085   1.453  0.052\\n010.683469 +41.268585 00424403+4116069   1.321  0.022\\n010.685657 +41.269550 00424455+4116103   2.773  0.069\\n010.686026 +41.269226 00424464+4116092   1.299  0.063\\n010.683465 +41.269676 00424403+4116108   2.507  0.056\\n010.686015 +41.269630 00424464+4116106   1.399  0.045\\n010.685270 +41.267124 00424446+4116016   2.070  0.035\\n'"
      ]
     },
     "execution_count": 3,
     "metadata": {},
     "output_type": "execute_result"
    }
   ],
   "source": [
    "f.read()"
   ]
  },
  {
   "cell_type": "markdown",
   "metadata": {
    "slideshow": {
     "slide_type": "-"
    }
   },
   "source": [
    "The ``read()`` function basically just read the whole file and put the contents inside a string."
   ]
  },
  {
   "cell_type": "markdown",
   "metadata": {
    "slideshow": {
     "slide_type": "slide"
    }
   },
   "source": [
    "Let's try this again:"
   ]
  },
  {
   "cell_type": "code",
   "execution_count": 4,
   "metadata": {},
   "outputs": [
    {
     "data": {
      "text/plain": [
       "''"
      ]
     },
     "execution_count": 4,
     "metadata": {},
     "output_type": "execute_result"
    }
   ],
   "source": [
    "f.read()"
   ]
  },
  {
   "cell_type": "markdown",
   "metadata": {},
   "source": [
    "What's happened? We read the file, and the file 'pointer' is now sitting at the end of the file, and there is nothing left to read."
   ]
  },
  {
   "cell_type": "markdown",
   "metadata": {
    "slideshow": {
     "slide_type": "slide"
    }
   },
   "source": [
    "Let's now try and do something more useful, and capture the contents of the file in a string:"
   ]
  },
  {
   "cell_type": "code",
   "execution_count": 5,
   "metadata": {},
   "outputs": [],
   "source": [
    "f = open('data1.txt', 'r')\n",
    "data = f.read()"
   ]
  },
  {
   "cell_type": "markdown",
   "metadata": {
    "slideshow": {
     "slide_type": "slide"
    }
   },
   "source": [
    "Now ``data`` should contain a string with the contents of the file:"
   ]
  },
  {
   "cell_type": "code",
   "execution_count": 6,
   "metadata": {},
   "outputs": [
    {
     "data": {
      "text/plain": [
       "'Latitude   Logitude   Identifier        Alt    e_Alt\\n(deg)      (deg)                        (km)   (km) \\n---------- ---------- ----------------- ------ ------\\n010.684737 +41.269035 00424433+4116085   1.453  0.052\\n010.683469 +41.268585 00424403+4116069   1.321  0.022\\n010.685657 +41.269550 00424455+4116103   2.773  0.069\\n010.686026 +41.269226 00424464+4116092   1.299  0.063\\n010.683465 +41.269676 00424403+4116108   2.507  0.056\\n010.686015 +41.269630 00424464+4116106   1.399  0.045\\n010.685270 +41.267124 00424446+4116016   2.070  0.035\\n'"
      ]
     },
     "execution_count": 6,
     "metadata": {},
     "output_type": "execute_result"
    }
   ],
   "source": [
    "data"
   ]
  },
  {
   "cell_type": "markdown",
   "metadata": {
    "slideshow": {
     "slide_type": "slide"
    }
   },
   "source": [
    "But what we'd really like to do is read the file line by line. There are several ways to do this, the simplest of which is to use a ``for`` loop in the following way:"
   ]
  },
  {
   "cell_type": "code",
   "execution_count": 7,
   "metadata": {},
   "outputs": [
    {
     "name": "stdout",
     "output_type": "stream",
     "text": [
      "'Latitude   Logitude   Identifier        Alt    e_Alt\\n'\n",
      "'(deg)      (deg)                        (km)   (km) \\n'\n",
      "'---------- ---------- ----------------- ------ ------\\n'\n",
      "'010.684737 +41.269035 00424433+4116085   1.453  0.052\\n'\n",
      "'010.683469 +41.268585 00424403+4116069   1.321  0.022\\n'\n",
      "'010.685657 +41.269550 00424455+4116103   2.773  0.069\\n'\n",
      "'010.686026 +41.269226 00424464+4116092   1.299  0.063\\n'\n",
      "'010.683465 +41.269676 00424403+4116108   2.507  0.056\\n'\n",
      "'010.686015 +41.269630 00424464+4116106   1.399  0.045\\n'\n",
      "'010.685270 +41.267124 00424446+4116016   2.070  0.035\\n'\n"
     ]
    }
   ],
   "source": [
    "f = open('data1.txt', 'r')\n",
    "for line in f:\n",
    "    print(repr(line))"
   ]
  },
  {
   "cell_type": "markdown",
   "metadata": {
    "slideshow": {
     "slide_type": "skip"
    }
   },
   "source": [
    "Note that we are using ``repr()`` to show any invisible characters (this will be useful in a minute). Also note that we are now looping over a file rather than a list, and this automatically reads in the next line at each iteration. Each line is being returned as a string. Notice the ``\\n`` at the end of each line - this is a line return character, which indicates the end of a line."
   ]
  },
  {
   "cell_type": "markdown",
   "metadata": {
    "slideshow": {
     "slide_type": "slide"
    }
   },
   "source": [
    "Now we're reading in a file line by line, what would be nice would be to get some values out of it.  Let's examine the last line in detail. If we just type ``line`` we should see the last line that was printed in the loop:"
   ]
  },
  {
   "cell_type": "code",
   "execution_count": 8,
   "metadata": {},
   "outputs": [
    {
     "data": {
      "text/plain": [
       "'010.685270 +41.267124 00424446+4116016   2.070  0.035\\n'"
      ]
     },
     "execution_count": 8,
     "metadata": {},
     "output_type": "execute_result"
    }
   ],
   "source": [
    "line"
   ]
  },
  {
   "cell_type": "markdown",
   "metadata": {
    "slideshow": {
     "slide_type": "slide"
    }
   },
   "source": [
    "We can first get rid of the ``\\n`` character with:"
   ]
  },
  {
   "cell_type": "code",
   "execution_count": 9,
   "metadata": {},
   "outputs": [],
   "source": [
    "line = line.strip()\n",
    "#By default, strips the last character in each line. \"\\n'\" counts as one character"
   ]
  },
  {
   "cell_type": "code",
   "execution_count": 10,
   "metadata": {},
   "outputs": [
    {
     "data": {
      "text/plain": [
       "'010.685270 +41.267124 00424446+4116016   2.070  0.035'"
      ]
     },
     "execution_count": 10,
     "metadata": {},
     "output_type": "execute_result"
    }
   ],
   "source": [
    "line\n",
    "#Shows the last line of the txt file"
   ]
  },
  {
   "cell_type": "markdown",
   "metadata": {
    "slideshow": {
     "slide_type": "slide"
    }
   },
   "source": [
    "Next, we can use what we learned about strings and lists to do:"
   ]
  },
  {
   "cell_type": "code",
   "execution_count": 11,
   "metadata": {},
   "outputs": [],
   "source": [
    "columns = line.split()"
   ]
  },
  {
   "cell_type": "code",
   "execution_count": 12,
   "metadata": {},
   "outputs": [
    {
     "data": {
      "text/plain": [
       "['010.685270', '+41.267124', '00424446+4116016', '2.070', '0.035']"
      ]
     },
     "execution_count": 12,
     "metadata": {},
     "output_type": "execute_result"
    }
   ],
   "source": [
    "columns\n",
    "#Repeats the line output, except with brackets"
   ]
  },
  {
   "cell_type": "markdown",
   "metadata": {
    "slideshow": {
     "slide_type": "slide"
    }
   },
   "source": [
    "Finally, let's say we care about the mountain name (the Location column), and the Altitude (the Alt) column:"
   ]
  },
  {
   "cell_type": "code",
   "execution_count": 13,
   "metadata": {},
   "outputs": [],
   "source": [
    "name = columns[2]\n",
    "alt = columns[3]"
   ]
  },
  {
   "cell_type": "code",
   "execution_count": 14,
   "metadata": {},
   "outputs": [
    {
     "data": {
      "text/plain": [
       "'00424446+4116016'"
      ]
     },
     "execution_count": 14,
     "metadata": {},
     "output_type": "execute_result"
    }
   ],
   "source": [
    "name"
   ]
  },
  {
   "cell_type": "code",
   "execution_count": 15,
   "metadata": {},
   "outputs": [
    {
     "data": {
      "text/plain": [
       "'2.070'"
      ]
     },
     "execution_count": 15,
     "metadata": {},
     "output_type": "execute_result"
    }
   ],
   "source": [
    "alt"
   ]
  },
  {
   "cell_type": "markdown",
   "metadata": {
    "slideshow": {
     "slide_type": "slide"
    }
   },
   "source": [
    "Note that ``alt`` is a string, but if we want a floating point number, we can instead do:"
   ]
  },
  {
   "cell_type": "code",
   "execution_count": 16,
   "metadata": {},
   "outputs": [],
   "source": [
    "alt = float(columns[3])\n",
    "#This is an important step!"
   ]
  },
  {
   "cell_type": "code",
   "execution_count": 17,
   "metadata": {},
   "outputs": [
    {
     "data": {
      "text/plain": [
       "2.07"
      ]
     },
     "execution_count": 17,
     "metadata": {},
     "output_type": "execute_result"
    }
   ],
   "source": [
    "alt"
   ]
  },
  {
   "cell_type": "markdown",
   "metadata": {
    "slideshow": {
     "slide_type": "slide"
    }
   },
   "source": [
    "One last piece of information we need about files is how we can read a single line. This is done using:\n",
    "\n",
    "    line = f.readline()"
   ]
  },
  {
   "cell_type": "markdown",
   "metadata": {
    "slideshow": {
     "slide_type": "slide"
    }
   },
   "source": [
    "We can put all this together to write a little script to read the data from the file and display the columns we care about to the screen! Here is is:"
   ]
  },
  {
   "cell_type": "code",
   "execution_count": 18,
   "metadata": {},
   "outputs": [
    {
     "name": "stdout",
     "output_type": "stream",
     "text": [
      "00424433+4116085 1.453\n",
      "00424403+4116069 1.321\n",
      "00424455+4116103 2.773\n",
      "00424464+4116092 1.299\n",
      "00424403+4116108 2.507\n",
      "00424464+4116106 1.399\n",
      "00424446+4116016 2.07\n"
     ]
    }
   ],
   "source": [
    "# Open file\n",
    "f = open('data1.txt', 'r')\n",
    "\n",
    "# Read and ignore header lines\n",
    "header1 = f.readline()\n",
    "header2 = f.readline()\n",
    "header3 = f.readline()\n",
    "\n",
    "# Loop over lines and extract variables of interest\n",
    "for line in f:\n",
    "    line = line.strip()\n",
    "    columns = line.split()\n",
    "    name = columns[2]\n",
    "    alt = float(columns[3])\n",
    "    print(name, alt)\n",
    "    \n",
    "#Prints the third and fourth columns except for the \"Identifier\" and \"Alt\" parts (headers)"
   ]
  },
  {
   "cell_type": "markdown",
   "metadata": {},
   "source": [
    "## Exercise 1"
   ]
  },
  {
   "cell_type": "markdown",
   "metadata": {},
   "source": [
    "Here is a copy of the above code to read in the file. Modify this code so as to create a dictionary which gives ``Alt`` for a given ``Location`` name, i.e.\n",
    "\n",
    "    >>> alt['00424455+4116103']\n",
    "    10.773\n",
    "    \n",
    "Then loop over the items in the dictionary and print out for each the source name and the ``alt`` value."
   ]
  },
  {
   "cell_type": "code",
   "execution_count": 19,
   "metadata": {},
   "outputs": [
    {
     "name": "stdout",
     "output_type": "stream",
     "text": [
      "{'00424433+4116085': 1.453}\n",
      "{'00424403+4116069': 1.321}\n",
      "{'00424455+4116103': 2.773}\n",
      "{'00424464+4116092': 1.299}\n",
      "{'00424403+4116108': 2.507}\n",
      "{'00424464+4116106': 1.399}\n",
      "{'00424446+4116016': 2.07}\n"
     ]
    }
   ],
   "source": [
    "# EDIT THE CODE BELOW\n",
    "\n",
    "# Open file\n",
    "f = open('data1.txt', 'r')\n",
    "\n",
    "# Read and ignore header lines\n",
    "header1 = f.readline()\n",
    "header2 = f.readline()\n",
    "header3 = f.readline()\n",
    "\n",
    "# Loop over lines and extract variables of interest\n",
    "for line in f:\n",
    "    line = line.strip()\n",
    "    columns = line.split()\n",
    "    name = columns[2]\n",
    "    alt = float(columns[3])\n",
    "    catalog = {name:alt}\n",
    "    #Prints dictionary fully (all seven lines) if in the loop, prints only one line if not in the loop\n",
    "    print(catalog)\n",
    "    \n",
    "#Store values in a dictionary and then print them"
   ]
  },
  {
   "cell_type": "code",
   "execution_count": 25,
   "metadata": {},
   "outputs": [
    {
     "name": "stdout",
     "output_type": "stream",
     "text": [
      "{'00424433+4116085': 1.453, '00424403+4116069': 1.321, '00424455+4116103': 2.773, '00424464+4116092': 1.299, '00424403+4116108': 2.507, '00424464+4116106': 1.399, '00424446+4116016': 2.07}\n",
      "00424433+4116085 1.453\n",
      "00424403+4116069 1.321\n",
      "00424455+4116103 2.773\n",
      "00424464+4116092 1.299\n",
      "00424403+4116108 2.507\n",
      "00424464+4116106 1.399\n",
      "00424446+4116016 2.07\n"
     ]
    }
   ],
   "source": [
    "# Open file\n",
    "f = open('data1.txt', 'r')\n",
    "\n",
    "# Read and ignore header lines\n",
    "header1 = f.readline()\n",
    "header2 = f.readline()\n",
    "header3 = f.readline()\n",
    "\n",
    "dict = {}\n",
    "for line in f:\n",
    "    line = line.strip()\n",
    "    columns = line.split()\n",
    "    name = columns[2]\n",
    "    alt = float(columns[3])\n",
    "    dict[name] = alt\n",
    "\n",
    "print(dict)\n",
    "for loc in dict: \n",
    "    print(loc, dict[loc])"
   ]
  },
  {
   "cell_type": "markdown",
   "metadata": {},
   "source": [
    "**Bonus:** can you figure out a way to make sure that you loop over the source names in alphabetical order?"
   ]
  },
  {
   "cell_type": "markdown",
   "metadata": {},
   "source": [
    "## Writing files"
   ]
  },
  {
   "cell_type": "markdown",
   "metadata": {
    "slideshow": {
     "slide_type": "slide"
    }
   },
   "source": [
    "To open a file for writing, use:"
   ]
  },
  {
   "cell_type": "code",
   "execution_count": 42,
   "metadata": {},
   "outputs": [],
   "source": [
    "f = open('data_new.txt', 'w')"
   ]
  },
  {
   "cell_type": "markdown",
   "metadata": {
    "slideshow": {
     "slide_type": "slide"
    }
   },
   "source": [
    "Then simply use ``f.write()`` to write any content to the file, for example:"
   ]
  },
  {
   "cell_type": "code",
   "execution_count": 44,
   "metadata": {},
   "outputs": [
    {
     "data": {
      "text/plain": [
       "14"
      ]
     },
     "execution_count": 44,
     "metadata": {},
     "output_type": "execute_result"
    }
   ],
   "source": [
    "f.write(\"Hello, World!\\n\")\n",
    "#Output is the number of characters in the quotes. Remember \"\\n\" counts as one character"
   ]
  },
  {
   "cell_type": "markdown",
   "metadata": {
    "slideshow": {
     "slide_type": "slide"
    }
   },
   "source": [
    "If you want to write multiple lines, you can either give a list of strings to the ``writelines()`` method:"
   ]
  },
  {
   "cell_type": "code",
   "execution_count": 45,
   "metadata": {},
   "outputs": [],
   "source": [
    "f.writelines(['spam\\n', 'egg\\n', 'spam\\n'])"
   ]
  },
  {
   "cell_type": "markdown",
   "metadata": {},
   "source": [
    "or you can write them as a single string:"
   ]
  },
  {
   "cell_type": "code",
   "execution_count": 47,
   "metadata": {},
   "outputs": [
    {
     "data": {
      "text/plain": [
       "14"
      ]
     },
     "execution_count": 47,
     "metadata": {},
     "output_type": "execute_result"
    }
   ],
   "source": [
    "f.write('spam\\negg\\nspam\\n')\n",
    "#4 characters+4 characters+5 characters+n"
   ]
  },
  {
   "cell_type": "markdown",
   "metadata": {
    "slideshow": {
     "slide_type": "slide"
    }
   },
   "source": [
    "Once you have finished writing data to a file, you need to close it:"
   ]
  },
  {
   "cell_type": "code",
   "execution_count": 48,
   "metadata": {},
   "outputs": [],
   "source": [
    "f.close()"
   ]
  },
  {
   "cell_type": "markdown",
   "metadata": {},
   "source": [
    "(this also applies to reading files)"
   ]
  },
  {
   "cell_type": "markdown",
   "metadata": {},
   "source": [
    "## The with-statement"
   ]
  },
  {
   "cell_type": "markdown",
   "metadata": {},
   "source": [
    "As we have seen above, files must not just be opened but should be properly closed afterwards to make sure they are actually written before using them somewhere else. Sometimes writes to files get cached by Python to minimize actual writing to disk, which is comparably slow. Closing a file ensures that these changes are actually written.\n",
    "\n",
    "To avoid forgetting to close a file there is the with-statement."
   ]
  },
  {
   "cell_type": "code",
   "execution_count": 51,
   "metadata": {},
   "outputs": [],
   "source": [
    "with open('data_new.txt', 'w') as f:\n",
    "    f.write('spam\\n')"
   ]
  },
  {
   "cell_type": "markdown",
   "metadata": {},
   "source": [
    "This opens the specified file and holds the file-object within ``f``, as well as closing the file when the with-codeblock ends. Afterwards, the file is properly closed and not available anymore."
   ]
  },
  {
   "cell_type": "markdown",
   "metadata": {},
   "source": [
    "## Exercise 2"
   ]
  },
  {
   "cell_type": "markdown",
   "metadata": {},
   "source": [
    "Continuing from the example in the 'Reading files' section, can you figure out a way to write out a new file containing two columns - the name of the source and the ``alt`` value?"
   ]
  },
  {
   "cell_type": "code",
   "execution_count": 41,
   "metadata": {},
   "outputs": [
    {
     "name": "stdout",
     "output_type": "stream",
     "text": [
      "{'00424433+4116085': 1.453, '00424403+4116069': 1.321, '00424455+4116103': 2.773, '00424464+4116092': 1.299, '00424403+4116108': 2.507, '00424464+4116106': 1.399, '00424446+4116016': 2.07}\n",
      "00424433+4116085 1.453\n",
      "00424403+4116069 1.321\n",
      "00424455+4116103 2.773\n",
      "00424464+4116092 1.299\n",
      "00424403+4116108 2.507\n",
      "00424464+4116106 1.399\n",
      "00424446+4116016 2.07\n"
     ]
    }
   ],
   "source": [
    "# EDIT THE CODE BELOW\n",
    "\n",
    "# Open file\n",
    "f = open('data1.txt', 'r')\n",
    "\n",
    "# Read and ignore header lines\n",
    "header1 = f.readline()\n",
    "header2 = f.readline()\n",
    "header3 = f.readline()\n",
    "\n",
    "# Loop over lines and extract variables of interest\n",
    "dict = {}\n",
    "for line in f:\n",
    "    line = line.strip()\n",
    "    columns = line.split()\n",
    "    name = columns[2]\n",
    "    alt = float(columns[3])\n",
    "    dict[name] = alt\n",
    "\n",
    "with open('data_new3.txt', 'w') as g: \n",
    "    for alt in dict: \n",
    "        g.writelines(str(alt)+\" \"+str(dict[alt])+\"\\n\")\n",
    "        \n",
    "print(dict)\n",
    "for loc in dict: \n",
    "    print(loc, dict[loc])"
   ]
  },
  {
   "cell_type": "markdown",
   "metadata": {},
   "source": [
    "## Notes"
   ]
  },
  {
   "cell_type": "markdown",
   "metadata": {
    "slideshow": {
     "slide_type": "skip"
    }
   },
   "source": [
    "The above shows you how you can read and write any data file. Of course, there are also functions that exist to help you read in data in certain formats (for example ``numpy`` contains a function ``numpy.loadtxt`` to read in arrays from files) but the key is that with the above, you can read any file, so any other function is then just making your life easier."
   ]
  },
  {
   "cell_type": "markdown",
   "metadata": {},
   "source": [
    "## Homework #6 \n",
    "\n",
    "**REMINDER:** *All coding assignment will be turned in as .ipynb files, to the same PHYS_X0223 repository on GitHub.*   \n",
    "*They should be turned in with the following naming:*\n",
    "    \n",
    "    Lastname_Firstinitial_24_HW6.ipynb\n",
    "    "
   ]
  },
  {
   "cell_type": "markdown",
   "metadata": {},
   "source": [
    "We learned basic error propigations in HW1.  \n",
    "\n",
    "Read in the data from 'data1.txt'.\n",
    "\n",
    "Write a **function** that will compute, what you did by hand in HW1, the mean and standard deviation of the 'alt' from the data points in the file we read in (data1.txt).\n",
    "\n",
    "Reminder:\n",
    "\n",
    "$$a = \\frac{\\sum_{i=1}^N (a_i/\\sigma_i^2)}{\\sum_{i=1}^N (1 / \\sigma_i^2) } \\;\\;\\;\\;\\;\\;\\;\\;\\;\\;\\;\\;\\;\\;\\;\\; 1/\\sigma^2 =  \\sum_{i=1}^N (1 / \\sigma_i^2)$$\n",
    "\n",
    "where $a_i = alt$  and $\\sigma_i = e\\_alt$\n",
    "\n",
    "**Write a code that will (1) read the file, (2) use the fuction, (3) print the results.**"
   ]
  },
  {
   "cell_type": "code",
   "execution_count": 65,
   "metadata": {},
   "outputs": [
    {
     "name": "stdout",
     "output_type": "stream",
     "text": [
      "(1.8317142857142856, 0.00022089869686571444)\n"
     ]
    }
   ],
   "source": [
    "import numpy as np\n",
    "import math\n",
    "\n",
    "def mean_error(a_i, sigma_i): \n",
    "\n",
    "#Use a for loop for the summation    \n",
    "\n",
    "    sum1 = 0\n",
    "    sum2 = 0\n",
    "\n",
    "    for i in range(len(a_i)): \n",
    "        sum1 += (a_i[i]/((sigma_i[i])**2))/(1/((sigma_i[i])**2))\n",
    "\n",
    "    for i in range(len(sigma_i)): \n",
    "#        sum2 += (1/(sigma_i[i]**2))- yields VARIANCE\n",
    "        sum2 += (1/(sigma_i[i]**2))\n",
    "\n",
    "    a = sum1/len(a_i) #Gives MEAN- correct answer\n",
    "    \n",
    "    sigma = (1/sum2) #Gives VARIANCE, or 1/(sigma**2). Need to convert to sigma\n",
    "\n",
    "#    sigma = ((1/sum2)**(-1/2)) #Based on HW 1, this is the correct format. However, the answer is 67 or so.\n",
    "#    67 is far greater than the a value, which means it is probably numerically incorrect.\n",
    "#    1/(sigma**2) is more realistic.\n",
    "    \n",
    "    # Write your function here\n",
    "\n",
    "    return a, sigma\n",
    "\n",
    "\n",
    "Alt = []\n",
    "e_Alt = []\n",
    "f = open('data1.txt', 'r')\n",
    "\n",
    "header1 = f.readline()\n",
    "header2 = f.readline()\n",
    "header3 = f.readline()\n",
    "for line in f:\n",
    "    line = line.strip()\n",
    "    columns = line.split()\n",
    "    name = columns[2]\n",
    "    Alt.append(float(columns[3]))\n",
    "    e_Alt.append(float(columns[4]))\n",
    "    \n",
    "print(mean_error(Alt, e_Alt))\n",
    "\n",
    "# read in file\n",
    "\n",
    "# call function\n",
    "\n",
    "# print results\n",
    "\n",
    "#def bind_energy(atom_mass, atom_number): \n",
    "#    A1= 15.67\n",
    "#    A2= 17.23\n",
    "#    A3= 0.75\n",
    "#    A4= 93.2\n",
    "#    if atom_mass%2 != 0: \n",
    "#        A5 = 0\n",
    "#    elif atom_mass%2 == 0 and atom_number%2 == 0: \n",
    "#        A5 = 12.0\n",
    "#    else: \n",
    "#        A5 = -12.0\n",
    "#    return ((A1*atom_mass)-(A2*(atom_mass)**(2/3))-((A3*(atom_number**2))*(atom_mass**(-1/3)))-(A4*((atom_mass-(2*(atom_number)))**2)/atom_mass)-(A5*(atom_mass)**(-1/2)))\n",
    "\n",
    "#bind_energy(58, 28)"
   ]
  },
  {
   "cell_type": "code",
   "execution_count": null,
   "metadata": {},
   "outputs": [],
   "source": []
  },
  {
   "cell_type": "code",
   "execution_count": null,
   "metadata": {},
   "outputs": [],
   "source": []
  }
 ],
 "metadata": {
  "kernelspec": {
   "display_name": "Python 3 (ipykernel)",
   "language": "python",
   "name": "python3"
  },
  "language_info": {
   "codemirror_mode": {
    "name": "ipython",
    "version": 3
   },
   "file_extension": ".py",
   "mimetype": "text/x-python",
   "name": "python",
   "nbconvert_exporter": "python",
   "pygments_lexer": "ipython3",
   "version": "3.9.12"
  }
 },
 "nbformat": 4,
 "nbformat_minor": 2
}
