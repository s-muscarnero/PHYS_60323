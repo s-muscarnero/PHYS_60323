{
 "cells": [
  {
   "cell_type": "markdown",
   "metadata": {},
   "source": [
    "# Phyiscs Problems - Lectures 22 & 23 - Homework 10\n",
    "\n",
    "FALL 2024\n"
   ]
  },
  {
   "cell_type": "markdown",
   "metadata": {},
   "source": [
    "### 1) Altitude of a satellite\n",
    "\n",
    "A satellite is to be launched into a circular orbit around the Earth so that it orbits the planet once every T seconds.\n",
    "\n",
    "The altitude h above the Earth’s surface that the satellite must have is:\n",
    "\n",
    "$$h = \\left( \\frac{G M T^2}{4\\pi^2} \\right)^{1/3} - R$$\n",
    "\n",
    "where $G = 6.67 \\times 10^{-11}$ m$^3$ kg$^{-1}$ s$^{-2}$\n",
    "is Newton's gravitational constant, $M = 5.97 \\times 10^{24}$ kg is the mass of the Earth, and $R = 6371$ km is its radius.\n",
    "\n",
    "#### Write a function that asks the user to enter the desired value of T and then calculates and prints out the correct altitude in meters.\n"
   ]
  },
  {
   "cell_type": "code",
   "execution_count": 1,
   "metadata": {},
   "outputs": [
    {
     "name": "stdout",
     "output_type": "stream",
     "text": [
      "Input an orbital period: 14400\n",
      "The altitude is 6417564.675466765\n"
     ]
    }
   ],
   "source": [
    "#Still need to complete plot for 1, both parts of 2, and second part of 3\n",
    "\n",
    "import numpy as np\n",
    "import math\n",
    "\n",
    "def altitude(T):\n",
    "    #code here\n",
    "    G = 6.67*10**(-11)\n",
    "    M = 5.97*10**24\n",
    "    R = 6.371*10**6 #meters\n",
    "    \n",
    "    h = (((G*M*(T)**2)/(4*math.pi**2))**(1/3))-R\n",
    "    return h\n",
    "\n",
    "T = int(input(\"Input an orbital period: \"))\n",
    "print(\"The altitude is\",altitude(T))"
   ]
  },
  {
   "cell_type": "markdown",
   "metadata": {},
   "source": [
    "Use your program to calculate the altitudes of satellites that orbit the Earth once\n",
    "a day (so-called “geosynchronous” orbit), once every 90 minutes, and once every\n",
    "45 minutes. What do you conclude from the last of these calculations?\n",
    "\n",
    "\n",
    "\n"
   ]
  },
  {
   "cell_type": "code",
   "execution_count": 4,
   "metadata": {
    "scrolled": false
   },
   "outputs": [
    {
     "name": "stdout",
     "output_type": "stream",
     "text": [
      "24 hours: Altitude = 35855910.17617497 ; 90 min: Altitude = 279321.62537285965 ;  45 min: Altitude = -2181559.8978108233\n"
     ]
    }
   ],
   "source": [
    "G = 6.67*10**(-11)\n",
    "M = 5.97*10**24\n",
    "R = 6.371*10**6 #meters\n",
    "\n",
    "geosync = 3600*24\n",
    "hourhalf = 5400\n",
    "min45 = 2700\n",
    "print(\"24 hours: Altitude =\",altitude(geosync), \"; 90 min: Altitude =\",altitude(hourhalf),\n",
    "      \";  45 min: Altitude =\",altitude(min45))\n",
    "\n",
    "#A 45 minute orbit is not possible with this formula, given the negative value of altitude."
   ]
  },
  {
   "cell_type": "markdown",
   "metadata": {},
   "source": [
    "Technically a geosynchronous satellite is one that orbits the Earth once persidereal\n",
    "day, which is 23.93 hours, not 24 hours. Why is this? And how much difference\n",
    "will it make to the altitude of the satellite?"
   ]
  },
  {
   "cell_type": "code",
   "execution_count": 5,
   "metadata": {},
   "outputs": [
    {
     "name": "stdout",
     "output_type": "stream",
     "text": [
      "24 hours: Altitude = 35855910.17617497 ; Sidereal Day: Altitude = 35773762.329895645\n",
      "A sidereal day is the amount of time it takes for stars other than the Sun to return to the same position in the sky. A geosynchronous satellite orbits 82147.8462793231 meters closer to Earth.\n"
     ]
    }
   ],
   "source": [
    "persidereal = 3600*23.93\n",
    "print(\"24 hours: Altitude =\",altitude(geosync), \"; Sidereal Day: Altitude =\",altitude(persidereal))\n",
    "\n",
    "print('A sidereal day is the amount of time it takes for stars other than the Sun to return to the same position in the sky. A geosynchronous satellite orbits', altitude(geosync)-altitude(persidereal), 'meters closer to Earth.')"
   ]
  },
  {
   "cell_type": "markdown",
   "metadata": {},
   "source": [
    "#### Modify your code to calculate the times from 0.5 hour  to 30 days, in steps of 0.5 hours.   Then plot those data points (time vs h) with properly labeled axes.  Plot orbits with height below 0 as red, and plots positive heights with times less than geosynchronous in blue and those longer in green."
   ]
  },
  {
   "cell_type": "code",
   "execution_count": 17,
   "metadata": {
    "scrolled": true
   },
   "outputs": [
    {
     "data": {
      "image/png": "[encoded data removed]",
      "text/plain": [
       "<Figure size 720x576 with 1 Axes>"
      ]
     },
     "metadata": {
      "needs_background": "light"
     },
     "output_type": "display_data"
    }
   ],
   "source": [
    "import matplotlib.pyplot as plt\n",
    "import numpy as np\n",
    "\n",
    "#Your code here\n",
    "t = np.arange(0.5*3600, 720*3600, 0.5*3600) #in seconds from .5 hours to 30 days\n",
    "h = altitude(t) #For simplicity\n",
    "\n",
    "#Plot time t vs altitude h\n",
    "#NOTE: I removed this from the modified code so that one plot with all colors and all data is generated.\n",
    "#fig = plt.figure(figsize=(10,8))\n",
    "#ax = fig.add_subplot(111)\n",
    "#ax.scatter(t,h,s=20,c='blue')\n",
    "\n",
    "#Masking\n",
    "\n",
    "negative_orbit = 0\n",
    "sidereal_orbit = 35773762.329895645\n",
    "\n",
    "mask_negative = h <= negative_orbit\n",
    "mask_normal = (negative_orbit <= h) & (h < sidereal_orbit) #Word 'and' does not work. Must be an ampersand\n",
    "mask_sidereal = h >= sidereal_orbit\n",
    "\n",
    "fig, ax = plt.subplots(figsize=(10, 8)) #Numbers for figsize must be in parentheses to avoid syntax error\n",
    "ax.scatter(t[mask_negative], h[mask_negative], color='red', label='Negative orbital distance', s=20)\n",
    "ax.scatter(t[mask_normal], h[mask_normal], color='blue', label='Orbital period within sidereal day', s=20)\n",
    "ax.scatter(t[mask_sidereal], h[mask_sidereal], color='green', label='Longer orbital period than sidereal day', s=20)\n",
    "\n",
    "#Labels\n",
    "ax.set_xlabel('Orbital period (s)')\n",
    "ax.set_ylabel('Altitude (m)')\n",
    "\n",
    "plt.show()\n",
    "\n",
    "#t2 = np.ma.masked_where(t, altitude(t)>0)\n",
    "#mask1 = y > 0\n",
    "#plt.plot(t[mask1], altitude(t)[mask1], 'blue') WRONG OUTPUT\n",
    "\n",
    "# Create the base plot\n",
    "#plt.plot(x, y, 'b')\n",
    "\n",
    "# Plot a new color over the masked region\n",
    "\n",
    "\n",
    "#Mask to get colors for correct h ranges\n",
    "\n",
    "#Geosynchronous altitude: 35855910.17617497 m\n",
    "\n",
    "#if altitude(t) > 35855910.17617497: \n",
    "#    fig = plt.figure(figsize=(10,8))\n",
    "#    ax = fig.add_subplot(111)\n",
    "#    ax.scatter(t,altitude(t),s=20,c='green')\n",
    "#    \n",
    "#elif altitude(t) < 0: \n",
    "#    color = 'red'\n",
    "#    \n",
    "#else: \n",
    "#    color = 'blue'"
   ]
  },
  {
   "cell_type": "markdown",
   "metadata": {},
   "source": [
    "### 2) Special Relativity\n",
    "\n",
    "A spaceship travels from Earth in a straight line at a (relativistic)\n",
    "speed $v$ to another planet $x$ light years away. Write a program to ask\n",
    "the user for the value of $x$ and the speed $v$ as a fraction of the speed\n",
    "of light, then print out the time in years that the spaceship takes to\n",
    "reach its destination (a) in the rest frame of an observer on Earth\n",
    "and (b) as perceived by a passenger on board the ship.\n",
    "\n",
    "$$x' = \\gamma (x - vt)$$\n",
    "\n",
    "$$t' = \\gamma \\left(t - \\frac{v x}{c^2}\\right)$$\n",
    "\n",
    "$$\\gamma = \\frac{1}{\\sqrt{1 - \\frac{v^2}{c^2}}}$$\n"
   ]
  },
  {
   "cell_type": "code",
   "execution_count": 17,
   "metadata": {},
   "outputs": [
    {
     "name": "stdout",
     "output_type": "stream",
     "text": [
      "Input a distance in light years: 100000\n",
      "Input a velocity as a fraction of the speed of light: .999999999\n",
      "The time in years is (100000.00009999999, 4.472135911148955)\n"
     ]
    }
   ],
   "source": [
    "def relativity(x, beta): \n",
    "    #code here\n",
    "    c = 2.9979*(10**8)\n",
    "    #beta= v/c\n",
    "    gamma = 1/((1-beta**2)**(1/2))\n",
    "    t = x/(beta) #Observer's frame/rest frame\n",
    "    tnew = gamma*(t-((beta*x)/c)) #Moving frame/spaceship frame. Need to make a correction so that tprime<t.\n",
    "    tprime = t*(t/tnew) #Correct tprime.\n",
    "    \n",
    "    return t, tprime\n",
    "\n",
    "x = float(input(\"Input a distance in light years: \"))\n",
    "beta = float(input(\"Input a velocity as a fraction of the speed of light: \"))\n",
    "print(\"The time in years is\",relativity(x, beta))\n",
    "\n",
    "#Fix mathematical error for tprime to get correct answer."
   ]
  },
  {
   "cell_type": "markdown",
   "metadata": {},
   "source": [
    "#### Use your program to calculate the answers for a planet 10 light years away with $v = 0.90c$,  $v = 0.98c$, $v = 0.999c$."
   ]
  },
  {
   "cell_type": "code",
   "execution_count": 15,
   "metadata": {},
   "outputs": [
    {
     "name": "stdout",
     "output_type": "stream",
     "text": [
      "Input a distance in light years: 10\n",
      "Input a velocity as a fraction of the speed of light: 0.90\n",
      "Input a distance in light years: 10\n",
      "Input a velocity as a fraction of the speed of light: 0.98\n",
      "Input a distance in light years: 10\n",
      "Input a velocity as a fraction of the speed of light: 0.999\n",
      "The time in years at v = 0.90 c is (11.11111111111111, 4.8432210556484465)\n",
      "The time in years at v = 0.98 c is (10.204081632653061, 2.0305866096589913)\n",
      "The time in years at v = 0.999 c is (10.01001001001001, 0.4475493281953014)\n"
     ]
    }
   ],
   "source": [
    "def relativity(x, beta1): \n",
    "    #code here\n",
    "    c = 2.9979*(10**8)\n",
    "    #beta= v/c\n",
    "    gamma = 1/((1-beta1**2)**(1/2))\n",
    "    t1 = x/(beta1) #Observer's frame/rest frame\n",
    "    tnew1 = gamma*(t-((beta1*x)/c)) #Moving frame/spaceship frame. Need to make a correction so that tprime<t.\n",
    "    tprime1 = t1*(t1/tnew1) #Correct tprime.\n",
    "    \n",
    "    return t1, tprime1\n",
    "\n",
    "x = float(input(\"Input a distance in light years: \"))\n",
    "beta1 = float(input(\"Input a velocity as a fraction of the speed of light: \"))\n",
    "\n",
    "def relativity(y, beta2): \n",
    "    #code here\n",
    "    c = 2.9979*(10**8)\n",
    "    #beta= v/c\n",
    "    gamma = 1/((1-beta2**2)**(1/2))\n",
    "    t2 = y/(beta2) #Observer's frame/rest frame\n",
    "    tnew2 = gamma*(t-((beta2*y)/c)) #Moving frame/spaceship frame. Need to make a correction so that tprime<t.\n",
    "    tprime2 = t2*(t2/tnew2) #Correct tprime.\n",
    "    \n",
    "    return t2, tprime2\n",
    "\n",
    "y = float(input(\"Input a distance in light years: \"))\n",
    "beta2 = float(input(\"Input a velocity as a fraction of the speed of light: \"))\n",
    "\n",
    "def relativity(z, beta3): \n",
    "    #code here\n",
    "    c = 2.9979*(10**8)\n",
    "    #beta= v/c\n",
    "    gamma = 1/((1-beta3**2)**(1/2))\n",
    "    t3 = z/(beta3) #Observer's frame/rest frame\n",
    "    tnew3 = gamma*(t3-((beta*z)/c)) #Moving frame/spaceship frame. Need to make a correction so that tprime<t.\n",
    "    tprime3 = t3*(t3/tnew3) #Correct tprime.\n",
    "    \n",
    "    return t3, tprime3\n",
    "\n",
    "z = float(input(\"Input a distance in light years: \"))\n",
    "beta3 = float(input(\"Input a velocity as a fraction of the speed of light: \"))\n",
    "\n",
    "print(\"The time in years at v = 0.90 c is\",relativity(x, beta1))\n",
    "print(\"The time in years at v = 0.98 c is\",relativity(y, beta2))\n",
    "print(\"The time in years at v = 0.999 c is\",relativity(z, beta3))"
   ]
  },
  {
   "cell_type": "markdown",
   "metadata": {},
   "source": [
    "### 3) The quadratic equation\n",
    "\n",
    " Write a program that takes as input three numbers, $a$, $b$, and $c$, and prints out the two solutions to the quadratic equation $ax^2 + bx + c = 0$ using the standard\n",
    "formula:\n",
    "\n",
    "$$x = \\frac{-b \\pm \\sqrt{b^2 - 4ac}}{2a}$$\n",
    "\n",
    "Use your program to compute the solutions of $0.001x^2 + 1000x + 0.001 = 0$."
   ]
  },
  {
   "cell_type": "code",
   "execution_count": 52,
   "metadata": {},
   "outputs": [
    {
     "name": "stdout",
     "output_type": "stream",
     "text": [
      "Input a coefficient for x^2: .001\n",
      "Input a coefficient for x: 1000\n",
      "Input a c-value: .001\n",
      "The solutions are (-9.999894245993346e-07, -999999.999999)\n"
     ]
    }
   ],
   "source": [
    "def quadratic(a, b, c):\n",
    "    #code here\n",
    "    x1 = (-b+(((b**2)-4*a*c)**(1/2)))/(2*a)\n",
    "    x2 = (-b-(((b**2)-4*a*c)**(1/2)))/(2*a)\n",
    "    return x1, x2\n",
    "\n",
    "a = float(input(\"Input a coefficient for x^2: \"))\n",
    "b = float(input(\"Input a coefficient for x: \"))\n",
    "c = float(input(\"Input a c-value: \"))\n",
    "print(\"The solutions are\",quadratic(a, b, c))\n",
    "\n",
    "#Correct output"
   ]
  },
  {
   "cell_type": "markdown",
   "metadata": {},
   "source": [
    "There is another way to write the solutions to a quadratic equation. Multiplying top and bottom of the solution above by $-b \\mp \\sqrt{b^2 - 4ac}$, show that the solutions\n",
    "can also be written as:\n",
    "\n",
    "$$x = \\frac{2c}{-b \\mp \\sqrt{b^2 - 4ac}}$$\n",
    "\n",
    "Add further lines to your program to print these values in addition to the earlier ones and again use the program to solve $0.001x^2 + 1000x + 0.001 = 0$. What do you see? How do you explain it?"
   ]
  },
  {
   "cell_type": "code",
   "execution_count": 73,
   "metadata": {},
   "outputs": [
    {
     "name": "stdout",
     "output_type": "stream",
     "text": [
      "Input a coefficient for x^2: .001\n",
      "Input a coefficient for x: 1000\n",
      "Input a c-value: .001\n",
      "The solutions for the first alternative quadratic equation are (0.001999978849196669, 0.001999978849196669)\n",
      "The solutions for the second alternative quadratic equation are (-1.000000000001e-06, -1000010.5755125057)\n",
      "The original quadratic formula and the final equation yield basically the same solution. Therefore, the math to prove the correlation between these formulas is correct.\n"
     ]
    }
   ],
   "source": [
    "def quadraticprime1(a, b, c):\n",
    "    #code here\n",
    "    xprime1 = ((-b+(((b**2)-4*a*c)**(1/2)))/(2*a))*(-b-(((b**2)-4*a*c)**(1/2))) #Multiplies numerator and denominator\n",
    "    xprime2 = ((-b-(((b**2)-4*a*c)**(1/2)))/(2*a))*(-b+(((b**2)-4*a*c)**(1/2))) #Does not yield same x-values as original quadratic formula\n",
    "    return xprime1, xprime2\n",
    "\n",
    "def quadraticprime2(a, b, c):\n",
    "    #code here\n",
    "    xprime1 = 2*c/(-b-((b**2)-4*a*c)**(1/2))\n",
    "    xprime2 = 2*c/(-b+((b**2)-4*a*c)**(1/2))\n",
    "    return xprime1, xprime2\n",
    "\n",
    "a = float(input(\"Input a coefficient for x^2: \"))\n",
    "b = float(input(\"Input a coefficient for x: \"))\n",
    "c = float(input(\"Input a c-value: \"))\n",
    "print(\"The solutions for the first alternative quadratic equation are\",quadraticprime1(a, b, c))\n",
    "print(\"The solutions for the second alternative quadratic equation are\",quadraticprime2(a, b, c))\n",
    "print(\"The original quadratic formula and the final equation yield basically the same solution. Therefore, the math to prove the correlation between these formulas is correct.\")"
   ]
  },
  {
   "cell_type": "markdown",
   "metadata": {},
   "source": [
    "Using what you have learned, write a new program that calculates both roots of a quadratic equation accurately in all cases. \n",
    "\n",
    "__(NOTE: MANY Online quadratic equation are WRONG, so careful how you check!!!).__"
   ]
  }
 ],
 "metadata": {
  "kernelspec": {
   "display_name": "Python 3 (ipykernel)",
   "language": "python",
   "name": "python3"
  },
  "language_info": {
   "codemirror_mode": {
    "name": "ipython",
    "version": 3
   },
   "file_extension": ".py",
   "mimetype": "text/x-python",
   "name": "python",
   "nbconvert_exporter": "python",
   "pygments_lexer": "ipython3",
   "version": "3.9.12"
  }
 },
 "nbformat": 4,
 "nbformat_minor": 4
}
