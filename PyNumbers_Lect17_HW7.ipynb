{
 "cells": [
  {
   "cell_type": "markdown",
   "metadata": {},
   "source": [
    "# Lecture 17 - Number Representation and Precision + HW 7"
   ]
  },
  {
   "cell_type": "markdown",
   "metadata": {},
   "source": [
    "#### Real numbers are stored with a decimal precision (or mantissa) and the decimal exponent range. The mantissa contains the significant figures of the number (and thereby the precision of the number). A number like (9.90625)10 in the decimal representation is given in a binary representation by\n",
    "\n",
    "(1001.11101)$_2$ = $1\\times2^3 +0\\times2^2 +0\\times2^1 +1\\times2^0 +1\\times2^{−1} +1\\times2^{−2} +1\\times2^{−3} +0\\times2^{−4} +1 \\times 2^{−5}$\n",
    "\n",
    "and it has an exact machine number representation since we need a finite number of bits to represent this number. This representation is however not very practical. Rather, we prefer to use a scientific notation. In the decimal system we would write a number like 9.90625 in what is called the normalized scientific notation. This means simply that the decimal point is shifted and appropriate powers of 10 are supplied. Our number could then be written as\n",
    "$9.90625 = 0.990625 \\times 10^1$,\n",
    "and a real non-zero number could be generalized as\n",
    "$x = \\pm r \\times 10^n$,\n",
    "with a $r$ a number in the range $1/10 \\le r < 1$. In a similar way we can represent a binary number in\n",
    "scientific notation as\n",
    "$x = \\pm q \\times 2^m$,\n",
    "with a $q$ a number in the range $1/2 \\le q < 1$."
   ]
  },
  {
   "cell_type": "markdown",
   "metadata": {},
   "source": [
    "In a typical computer, floating-point numbers are represented in the way described above, but with certain restrictions on q and m imposed by the available word length. In the machine, our number x is represented as\n",
    "\n",
    "$x = (−1)^s \\times mantissa \\times 2^{exponent}$\n",
    "\n",
    "where $s$ is the sign bit, and the exponent gives the available range. With a single-precision word, 32 bits, 8 bits would typically be reserved for the exponent, 1 bit for the sign and 23 for the mantissa. "
   ]
  },
  {
   "cell_type": "markdown",
   "metadata": {},
   "source": [
    "## 32-bit – single precision (old computers):\n",
    "\n",
    "Sign bit: 1 bit\n",
    "\n",
    "Exponent: 8 bits\n",
    "\n",
    "Significand precision: 24 bits (23 explicitly stored)\n",
    "\n",
    "This gives 6–9 significant decimal digits precision!"
   ]
  },
  {
   "cell_type": "markdown",
   "metadata": {},
   "source": [
    "## 64-bit = double precision (normal modern computers):\n",
    "\n",
    "Sign bit: 1 bit\n",
    "\n",
    "Exponent: 11 bits\n",
    "\n",
    "Significand precision: 53 bits (52 explicitly stored)\n",
    "\n",
    "This gives 15–17 significant decimal digits precision.\n",
    "This the the Python default standard\n"
   ]
  },
  {
   "cell_type": "markdown",
   "metadata": {},
   "source": [
    "## 128-bit = quadruple precision:\n",
    "\n",
    "Sign bit: 1 bit\n",
    "\n",
    "Exponent: 15 bits\n",
    "\n",
    "Significand precision: 113 bits (112 explicitly stored)\n",
    "\n",
    "This gives 33–36 significant decimal digits precision.\n"
   ]
  },
  {
   "cell_type": "markdown",
   "metadata": {},
   "source": [
    "## 256-bit – Octuple precision:\n",
    "\n",
    "Sign bit: 1 bit\n",
    "    \n",
    "Exponent: 19 bits\n",
    "    \n",
    "Significand precision: 237 bits (236 explicitly stored)\n",
    "\n",
    "THIS IS RARELY IMPLEMENTED\n",
    "\n",
    "\n"
   ]
  },
  {
   "cell_type": "markdown",
   "metadata": {},
   "source": [
    "__Throrecticcaly the Maximum unsigned integer is:__ 115792089237316195423570985008687907853269984665640564039457584007913129639935\n"
   ]
  },
  {
   "cell_type": "code",
   "execution_count": 1,
   "metadata": {},
   "outputs": [
    {
     "name": "stdout",
     "output_type": "stream",
     "text": [
      "115792089237316195423570985008687907853269984665640564039457584007913129639936\n"
     ]
    }
   ],
   "source": [
    "a = 115792089237316195423570985008687907853269984665640564039457584007913129639935\n",
    "print(a+1)"
   ]
  },
  {
   "cell_type": "code",
   "execution_count": 2,
   "metadata": {},
   "outputs": [
    {
     "name": "stdout",
     "output_type": "stream",
     "text": [
      "231584178474632390847141970017375815706539969331281128078915168015826259279870\n"
     ]
    }
   ],
   "source": [
    "print(a*2)"
   ]
  },
  {
   "cell_type": "code",
   "execution_count": 4,
   "metadata": {},
   "outputs": [
    {
     "name": "stdout",
     "output_type": "stream",
     "text": [
      "1001.111012\n"
     ]
    }
   ],
   "source": [
    "print(1001.11101_2)\n",
    "#Does not work this way"
   ]
  },
  {
   "cell_type": "markdown",
   "metadata": {},
   "source": [
    "_**Python 3 has NO real integer limit length!!**_ "
   ]
  },
  {
   "cell_type": "markdown",
   "metadata": {},
   "source": [
    "# Precision effects"
   ]
  },
  {
   "cell_type": "markdown",
   "metadata": {},
   "source": [
    "One important consequence of rounding error is that you should **NEVER Use an if statment to test equality of two floats.**  For instance, you should never, in any program, have a statement like:"
   ]
  },
  {
   "cell_type": "code",
   "execution_count": 7,
   "metadata": {},
   "outputs": [
    {
     "name": "stdout",
     "output_type": "stream",
     "text": [
      "What is x really : 3.3000000000000003\n"
     ]
    }
   ],
   "source": [
    "x = 3 * 1.1\n",
    "if x == 3.3:\n",
    "    print(\"x = \",x,\"and we have trigged the proper logic\")\n",
    "else:\n",
    "    print(\"What is x really :\", x)\n",
    "    \n",
    "#Does not have the correct precision"
   ]
  },
  {
   "cell_type": "markdown",
   "metadata": {},
   "source": [
    "If you need to do a logic trigger based on a float:"
   ]
  },
  {
   "cell_type": "code",
   "execution_count": 14,
   "metadata": {},
   "outputs": [
    {
     "name": "stdout",
     "output_type": "stream",
     "text": [
      "x =  3.3000000000000003 and we have trigged the proper logic\n"
     ]
    }
   ],
   "source": [
    "epsilon = 1e-12\n",
    "if abs(x-3.3) < epsilon:\n",
    "    print(\"x = \",x,\"and we have trigged the proper logic\")\n",
    "else:\n",
    "    print(\"what is x really :\", x)"
   ]
  },
  {
   "cell_type": "markdown",
   "metadata": {},
   "source": [
    "## Which operations are most important in dealing with precision?\n",
    "\n",
    "__Subtraction__ and __Derivatives__"
   ]
  },
  {
   "cell_type": "markdown",
   "metadata": {},
   "source": [
    "## Subtraction\n",
    "\n",
    "a = b - c\n",
    "\n",
    "We have:   $fl(a) = fl(b) - fl(c) = a(1+\\epsilon_a)$  or\n",
    "            $fl(a) = b(1+\\epsilon_b) - c(1+\\epsilon_c)$\n",
    "            \n",
    "So, $fl(a)/a = 1 + \\epsilon_b (b/a) - \\epsilon_c (c/a)$\n",
    "\n",
    "IF $b \\sim c$, we have the potential of increased error on $fl(a)$\n",
    "\n",
    "\n",
    "If we have:\n",
    "\n",
    "$x = 1000000000000000$\n",
    "\n",
    "$y = 1000000000000001.2345678901234$\n",
    "\n",
    "as far the computer is concerned:\n",
    "    "
   ]
  },
  {
   "cell_type": "code",
   "execution_count": 16,
   "metadata": {},
   "outputs": [
    {
     "name": "stdout",
     "output_type": "stream",
     "text": [
      "1.25\n"
     ]
    }
   ],
   "source": [
    "x = 1000000000000000.0000000000000\n",
    "y = 1000000000000001.2345678901234\n",
    " \n",
    "print(y-x) \n",
    "\n",
    "#1.25 is incorrect. Should be 1.2345678901234"
   ]
  },
  {
   "cell_type": "markdown",
   "metadata": {},
   "source": [
    "**The true result should be 1.2345678901234!**\n",
    "\n",
    "In other words, instead of 16-figure accuracy we now only have three figures and the fractional error is a few percent of the true value.  This is much worse than before!\n",
    "\n",
    "\n",
    "To see another example of this in practice, consider two numbers:\n",
    "\n",
    "$x = 1$, and $ y = 1+10^{-14}\\sqrt 2$ \n",
    "\n",
    "Simply we can see that:\n",
    "\n",
    "$ 10^{14} (y - x) = \\sqrt 2$\n",
    "\n",
    "Let us try the same calculation in python:\n",
    " "
   ]
  },
  {
   "cell_type": "code",
   "execution_count": 19,
   "metadata": {},
   "outputs": [
    {
     "name": "stdout",
     "output_type": "stream",
     "text": [
      "1.4210854715202004\n",
      "1.4142135623730951\n",
      "Difference is: 0.006871909147105226\n"
     ]
    }
   ],
   "source": [
    "from math import sqrt\n",
    "x = 1.0\n",
    "y = 1.0 + (1e-14)*sqrt(2)\n",
    "\n",
    "print((1e14)*(y-x))\n",
    "print(sqrt(2))\n",
    "print(\"Difference is:\",(1e14)*(y-x)-sqrt(2))"
   ]
  },
  {
   "cell_type": "markdown",
   "metadata": {},
   "source": [
    "Again error off by a percent.  We need to be careful in how we code math!"
   ]
  },
  {
   "cell_type": "markdown",
   "metadata": {},
   "source": [
    "__Many Representations in math are broken down into series that are summed up.__  \n",
    "\n",
    "One tool to modify variable in python is used to do so, typically in loops.\n",
    "\n",
    "For example:  \n",
    "\n",
    "`m = m + 2` can be written in python as `m += 2`\n",
    "\n",
    "`n = n - 3` can be written in python as `n -= 3`\n",
    "\n",
    "`j = j * 4` can be written in python as `j *= 4`\n",
    "\n",
    "`k = k / 5` can be written in python as `k /= 5`"
   ]
  },
  {
   "cell_type": "code",
   "execution_count": 29,
   "metadata": {},
   "outputs": [
    {
     "name": "stdout",
     "output_type": "stream",
     "text": [
      "Number = 10\n",
      "Divided by 2 now Number = 5.0\n",
      "Divided by 3 now Number = 1.6666666666666667\n",
      "Divided by 4 now Number = 0.4166666666666667\n",
      "Divided by 5 now Number = 0.08333333333333334\n",
      "Divided by 6 now Number = 0.01388888888888889\n",
      "Divided by 7 now Number = 0.0019841269841269845\n",
      "Divided by 8 now Number = 0.00024801587301587306\n",
      "Divided by 9 now Number = 2.7557319223985896e-05\n",
      "Divided by 10 now Number = 2.7557319223985897e-06\n",
      "Divided by 11 now Number = 2.5052108385441723e-07\n"
     ]
    }
   ],
   "source": [
    "import numpy as np\n",
    "number = 10\n",
    "print(\"Number =\", number)\n",
    "for g in (np.arange(10)+2):\n",
    "    number /= g\n",
    "    print(\"Divided by\",g,\"now Number =\",number)"
   ]
  },
  {
   "cell_type": "markdown",
   "metadata": {},
   "source": [
    "## Example 1:  Summing $1/n$ \n",
    "\n",
    "Consider the series:\n",
    "\n",
    "$$s_1 = \\sum_{n=1}^N \\frac{1}{n}$$ which is finite when N is finite, then consider\n",
    "\n",
    "$$s_2 = \\sum_{n=N}^1 \\frac{1}{n}$$ which when summed analyitically should give $s_2 = s_1$"
   ]
  },
  {
   "cell_type": "markdown",
   "metadata": {},
   "source": [
    "__Write a code to perform both of these to sums for N = 1e8 and compare the results__"
   ]
  },
  {
   "cell_type": "code",
   "execution_count": 49,
   "metadata": {},
   "outputs": [
    {
     "name": "stdout",
     "output_type": "stream",
     "text": [
      "18.997896413852555 18.997896423853447 Diff: -1.0000892558537089e-08\n"
     ]
    }
   ],
   "source": [
    "import math\n",
    "\n",
    "s1, s2 = 0, 0\n",
    "\n",
    "N= int(1e8)\n",
    "\n",
    "for n in range(1,N+1,1): \n",
    "    s1 += (1/n)\n",
    "\n",
    "for n in range(N+1,0,-1): \n",
    "    s2 += (1/n)\n",
    "\n",
    "# Write a code to perform both of these to sums for N = 1e8 and compare\n",
    "\n",
    "print(s1, s2, \"Diff:\", s1-s2)\n",
    "\n",
    "#Reminder: Make sure ranges include all numbers and are not missing the last number!"
   ]
  },
  {
   "cell_type": "markdown",
   "metadata": {},
   "source": [
    "## Homework #7: Write functions for solving $e^{-x}$\n",
    "\n",
    "**REMINDER:** *All coding assignment will be turned in as .ipynb files, to the same PHYS_X0223 repository on GitHub.*   \n",
    "*They should be turned in with the following naming:*\n",
    "    \n",
    "    Lastname_Firstinitial_24_HW#.ipynb\n",
    "    "
   ]
  },
  {
   "cell_type": "markdown",
   "metadata": {},
   "source": [
    "\n",
    "\n",
    "There are three possible algorithms for computing $e^{-x}$\n",
    "\n",
    "1) **Simple:** Direct formula for $e^{-x}$  $$e^{-x} = \\sum_{n=0}^{\\infty} (-1)^n \\; \\frac{x^n}{n!}$$  \n",
    "\n",
    "\n",
    "2) **Inverse:** Formula for $1/e^{x}$: $$e^{x} = {\\sum_{n=0}^{\\infty} \\frac{x^n}{n!}}$$  Then take the inverse:   $$e^{-x} = \\frac{1}{e^{x}}$$\n",
    "\n",
    "\n",
    "3) **Recursion: (see example below)** based on direct formula $$e^{-x} = \\sum_{n=0}^{\\infty} s_n = \\sum_{n=0}^{\\infty} (-1)^n \\; \\frac{x^n}{n!}$$  where  $$ s_n = -s_{n-1} \\frac{x}{n}$$ and $$s_0 = 1$$\n",
    "\n",
    "\n",
    "__Your assignment:__\n",
    "\n",
    "1) Write a three functions to compute e^(-x), one foreach of the three methods above.  Start first with 20 terms of the summation (e.g., n = 20), but try more or less terms to see if you get a better answer. \n",
    "\n",
    "2) Then check their output for x = 1 - 100, in steps of 10. \n",
    "\n",
    "3) Compare all three caluculation to the numpy version of exp(-x) which is imported above. \n",
    "\n",
    "**(NOTE: They SHOULD NOT give the same answer due to Preciscion Effects!!)**\n"
   ]
  },
  {
   "cell_type": "code",
   "execution_count": 46,
   "metadata": {},
   "outputs": [
    {
     "name": "stdout",
     "output_type": "stream",
     "text": [
      "'x' simple inverse recurse NumPy\n",
      "--- ------ ------- ------- -----\n",
      "2 , 0.1353352832366504 , 0.13533528323661353 , 1 , 0.1353352832366127\n",
      "\n",
      " NOTE: '-9999' means not written yet.\n"
     ]
    }
   ],
   "source": [
    "import math\n",
    "import numpy as np\n",
    "#np.exp(-1)\n",
    "\n",
    "# write a function to compute e^(-x) for all three methods \n",
    "# Then check their output for x = 1 - 101, in steps of 10 and \n",
    "# Compare to the numpy version of exp(-x) which is imported above. \n",
    "\n",
    "def e_minusx_simple(x): \n",
    "    s1 = 0\n",
    "    # code here\n",
    "    for n in range(0,21,1): \n",
    "        s1 += ((-1)**n)*((x**n)/math.factorial(n))\n",
    "#    emxsmp = -9999 #dummy error vaule to allow print until you finish function code\n",
    "#    return emxsmp\n",
    "    return s1\n",
    "#NOTE: Function diverges from the second and third ones at higher x-values. For example, at x= 7, this function's\n",
    "#Output is 10 times that of the second and third functions.\n",
    "#At x = 10, off by a factor of 300,000. At x = 20, off by a factor of 6 quadrillion. However, code appears correct.\n",
    "\n",
    "def e_minusx_inverse(x): \n",
    "    s2 = 0\n",
    "    epositive = 0\n",
    "    # code here\n",
    "    for n in range(0,21,1): \n",
    "        epositive += ((x**n)/math.factorial(n))\n",
    "        s2 = 1/epositive\n",
    "    emxinv = -9999 #dummy error vaule to allow print until you finish function code\n",
    "    return s2\n",
    "\n",
    "# note use a function for s_n (See example below)\n",
    "def e_minusx_recurse(x): \n",
    "    s3 = 0\n",
    "#Create a function s_n that calls itself to fix this error\n",
    "    # code here\n",
    "    for n in range(0,21,1): \n",
    "        if n == 0: \n",
    "            return 1\n",
    "        else: \n",
    "            return -e_minusx_recurse(n-1)*(x/n)\n",
    "        #Define e_minus_recurse based on n and x, not just x, to avoid defining errors.\n",
    "        #Cannot remove if statement, because it results in a recursion error.\n",
    "        s3 += s[n]\n",
    "    emxrec = -9999 #dummy error vaule to allow print until you finish function code\n",
    "    return emxrec\n",
    "\n",
    "#Second and third functions' outputs diverge from one another slightly as n approaches higher values (like 20).\n",
    "\n",
    "x = 2 #test input for e^(-2) before you write \n",
    "# main code here\n",
    "\n",
    "\n",
    "# HERE IS THE DEFAULT PRINT STATEMENT TO TEST YOUR OUTPUT (modify when you check x 1-101) \n",
    "print(\"'x' simple inverse recurse NumPy\")\n",
    "print(\"--- ------ ------- ------- -----\")\n",
    "print(x,\",\", e_minusx_simple(x),\",\", e_minusx_inverse(x),\",\", e_minusx_recurse(x),\",\", np.exp(-1*x))\n",
    "print(\"\\n NOTE: '-9999' means not written yet.\")"
   ]
  },
  {
   "cell_type": "markdown",
   "metadata": {},
   "source": [
    "### Recursion Example"
   ]
  },
  {
   "cell_type": "code",
   "execution_count": null,
   "metadata": {},
   "outputs": [],
   "source": [
    "def factorial(x):\n",
    "    \"\"\"This is a recursive function to find the factorial of an integer\"\"\"\n",
    "    if x == 1:\n",
    "        return 1\n",
    "    else:\n",
    "        return (x * factorial(x-1)) # the function calls itself here!!\n",
    "# Testing it below.\n",
    "num = 5\n",
    "print(\"The factorial of\", num, \"is\", factorial(num))"
   ]
  },
  {
   "cell_type": "code",
   "execution_count": null,
   "metadata": {},
   "outputs": [],
   "source": []
  }
 ],
 "metadata": {
  "kernelspec": {
   "display_name": "Python 3 (ipykernel)",
   "language": "python",
   "name": "python3"
  },
  "language_info": {
   "codemirror_mode": {
    "name": "ipython",
    "version": 3
   },
   "file_extension": ".py",
   "mimetype": "text/x-python",
   "name": "python",
   "nbconvert_exporter": "python",
   "pygments_lexer": "ipython3",
   "version": "3.9.12"
  }
 },
 "nbformat": 4,
 "nbformat_minor": 4
}
